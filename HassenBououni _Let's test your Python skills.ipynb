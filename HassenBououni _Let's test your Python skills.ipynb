{
 "cells": [
  {
   "cell_type": "code",
   "execution_count": 19,
   "metadata": {},
   "outputs": [
    {
     "name": "stdout",
     "output_type": "stream",
     "text": [
      "2002/2009/2016/2023/2037/2044/2051/2058/2072/2079/2086/2093/2107/2114/2121/2128/2142/2149/2156/2163/2177/2184/2191/2198/2212/2219/2226/2233/2247/2254/2261/2268/2282/2289/2296/2303/2317/2324/2331/2338/2352/2359/2366/2373/2387/2394/2401/2408/2422/2429/2436/2443/2457/2464/2471/2478/2492/2499/2506/2513/2527/2534/2541/2548/2562/2569/2576/2583/2597/2604/2611/2618/2632/2639/2646/2653/2667/2674/2681/2688/2702/2709/2716/2723/2737/2744/2751/2758/2772/2779/2786/2793/2807/2814/2821/2828/2842/2849/2856/2863/2877/2884/2891/2898/2912/2919/2926/2933/2947/2954/2961/2968/2982/2989/2996/3003/3017/3024/3031/3038/3052/3059/3066/3073/3087/3094/3101/3108/3122/3129/3136/3143/3157/3164/3171/3178/3192/3199/"
     ]
    }
   ],
   "source": [
    "#Question1\n",
    "x=list\n",
    "for x in range (2000,3200) :\n",
    "    if (x%7)==0 :\n",
    "        if (x%5)!=0 :\n",
    "            print ((x), end='/')"
   ]
  },
  {
   "cell_type": "code",
   "execution_count": 28,
   "metadata": {},
   "outputs": [
    {
     "name": "stdout",
     "output_type": "stream",
     "text": [
      "40320\n"
     ]
    }
   ],
   "source": [
    "#Question2\n",
    "n=8\n",
    "def factorial(n):\n",
    "    if n == 0 :\n",
    "        return 1\n",
    "    else:\n",
    "        return n * factorial(n-1)\n",
    "\n",
    "print(factorial(n))"
   ]
  },
  {
   "cell_type": "code",
   "execution_count": 24,
   "metadata": {},
   "outputs": [
    {
     "name": "stdout",
     "output_type": "stream",
     "text": [
      "{}\n"
     ]
    }
   ],
   "source": [
    "#Question3\n",
    "\n",
    "\n",
    "n=int()\n",
    "d={i:i*i for x in range(1,n+1)}\n",
    "i=8\n",
    "print(d)"
   ]
  },
  {
   "cell_type": "code",
   "execution_count": 26,
   "metadata": {},
   "outputs": [
    {
     "name": "stdout",
     "output_type": "stream",
     "text": [
      "100,150,180\n",
      "18,22,24\n"
     ]
    }
   ],
   "source": [
    "#Question4\n",
    "\n",
    "\n",
    "import math\n",
    "C=50\n",
    "H=30\n",
    "\n",
    "def calc(D):\n",
    "    return math.sqrt((2*C*D)/H)\n",
    "\n",
    "D = input().split(',')    \n",
    "D = [int(i) for i in D]  \n",
    "D = [calc(i) for i in D]  \n",
    "D = [round(i) for i in D] \n",
    "D = [str(i) for i in D]\n",
    "\n",
    "print(\",\".join(D))"
   ]
  },
  {
   "cell_type": "code",
   "execution_count": 17,
   "metadata": {},
   "outputs": [
    {
     "name": "stdout",
     "output_type": "stream",
     "text": [
      "ktten\n",
      "itten\n",
      "kittn\n"
     ]
    }
   ],
   "source": [
    "#Question5\n",
    "\n",
    "\n",
    "def remove_char(s, n):\n",
    "    return s[:n] + s[n+1:]\n",
    "print(remove_char('kitten',1))\n",
    "print(remove_char('kitten',0))\n",
    "print(remove_char('kitten',4))"
   ]
  },
  {
   "cell_type": "code",
   "execution_count": 15,
   "metadata": {},
   "outputs": [
    {
     "data": {
      "text/plain": [
       "\"i hope you didnt translate it by hand. thats what computers are for. doing it in by hand is inefficient and that's why this text is so long. using string.maketrans() is recommended. now apply on the url\""
      ]
     },
     "execution_count": 15,
     "metadata": {},
     "output_type": "execute_result"
    }
   ],
   "source": [
    "#Question 6\n",
    "\n",
    "\n",
    "raw = \"g fmnc wms bgblr rpylqjyrc gr zw fylb. rfyrq ufyr amknsrcpq ypc dmp. bmgle gr gl zw fylb gq glcddgagclr ylb rfyr'q ufw rfgq rcvr gq qm jmle. sqgle qrpgle.kyicrpylq() gq pcamkkclbcb. lmu ynnjw ml rfc spj\"\n",
    "table = str.maketrans(\"abcdefghijklmnopqrstuvwxyz\",\"cdefghijklmnopqrstuvwxyzab\")\n",
    "result = raw.translate(table)\n",
    "result"
   ]
  },
  {
   "cell_type": "code",
   "execution_count": 14,
   "metadata": {},
   "outputs": [
    {
     "data": {
      "text/plain": [
       "[[0, 1], [2, 3], [4, 5]]"
      ]
     },
     "execution_count": 14,
     "metadata": {},
     "output_type": "execute_result"
    }
   ],
   "source": [
    "#Question7\n",
    "\n",
    "\n",
    "import numpy as np\n",
    "np.array([[0, 1],[2,3],[4,5]]).tolist()\n"
   ]
  },
  {
   "cell_type": "code",
   "execution_count": 18,
   "metadata": {},
   "outputs": [
    {
     "data": {
      "text/plain": [
       "array([[ 1., -1.],\n",
       "       [-1.,  1.]])"
      ]
     },
     "execution_count": 18,
     "metadata": {},
     "output_type": "execute_result"
    }
   ],
   "source": [
    "#Question8\n",
    "\n",
    "import numpy as np\n",
    "Original_array1 = np.array([0,1,2]) \n",
    "Original_array2 = np.array([2,1,0]) \n",
    "Cov_mat=np.cov(Original_array1,Original_array2)\n",
    "Cov_mat\n"
   ]
  },
  {
   "cell_type": "code",
   "execution_count": null,
   "metadata": {},
   "outputs": [],
   "source": []
  }
 ],
 "metadata": {
  "kernelspec": {
   "display_name": "Python 3",
   "language": "python",
   "name": "python3"
  },
  "language_info": {
   "codemirror_mode": {
    "name": "ipython",
    "version": 3
   },
   "file_extension": ".py",
   "mimetype": "text/x-python",
   "name": "python",
   "nbconvert_exporter": "python",
   "pygments_lexer": "ipython3",
   "version": "3.7.6"
  }
 },
 "nbformat": 4,
 "nbformat_minor": 4
}
